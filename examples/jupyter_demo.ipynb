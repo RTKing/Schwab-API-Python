{
 "cells": [
  {
   "cell_type": "code",
   "id": "initial_id",
   "metadata": {
    "collapsed": true
   },
   "source": [
    "#import packages\n",
    "import schwabdev\n",
    "import logging\n",
    "import dotenv\n",
    "import os"
   ],
   "outputs": [],
   "execution_count": null
  },
  {
   "metadata": {},
   "cell_type": "code",
   "source": [
    "# set logging level\n",
    "logging.basicConfig(level=logging.INFO)\n",
    "\n",
    "#load environment variables and make client\n",
    "dotenv.load_dotenv()\n",
    "client = schwabdev.Client(os.getenv('app_key'), os.getenv('app_secret'), os.getenv('callback_url'))"
   ],
   "id": "99702f6a92a22ca7",
   "outputs": [],
   "execution_count": null
  },
  {
   "metadata": {},
   "cell_type": "markdown",
   "source": "# Basic API calls",
   "id": "5cfc8e6c5d21383"
  },
  {
   "metadata": {},
   "cell_type": "code",
   "outputs": [],
   "execution_count": null,
   "source": [
    "# get account number and hashes for linked accounts\n",
    "linked_accounts = client.account_linked().json()\n",
    "print(linked_accounts)\n",
    "# select the first account to use for orders\n",
    "account_hash = linked_accounts[0].get('hashValue')"
   ],
   "id": "99904111f851f396"
  },
  {
   "metadata": {},
   "cell_type": "code",
   "outputs": [],
   "execution_count": null,
   "source": [
    "# get positions for selected account\n",
    "print(client.account_details(account_hash, fields=\"positions\").json())"
   ],
   "id": "7ee8091c36c0d066"
  },
  {
   "metadata": {},
   "cell_type": "code",
   "outputs": [],
   "execution_count": null,
   "source": [
    "# get a list of quotes\n",
    "print(client.quotes([\"AAPL\", \"AMD\"]).json())"
   ],
   "id": "706a555f317f99ee"
  },
  {
   "metadata": {},
   "cell_type": "code",
   "outputs": [],
   "execution_count": null,
   "source": [
    "# get an option chain\n",
    "print(client.option_expiration_chain(\"AAPL\").json())"
   ],
   "id": "791f4d37b7a1cb5e"
  },
  {
   "metadata": {},
   "cell_type": "markdown",
   "source": "# Order example",
   "id": "c7e3dc8274757630"
  },
  {
   "metadata": {},
   "cell_type": "code",
   "source": [
    "# place an order for INTC at limit price $10.00\n",
    "order = {\"orderType\": \"LIMIT\", \n",
    "         \"session\": \"NORMAL\", \n",
    "         \"duration\": \"DAY\", \n",
    "         \"orderStrategyType\": \"SINGLE\", \n",
    "         \"price\": '10.00',\n",
    "         \"orderLegCollection\": [\n",
    "             {\"instruction\": \"BUY\", \n",
    "              \"quantity\": 1, \n",
    "              \"instrument\": \n",
    "                  {\"symbol\": \"INTC\", \n",
    "                   \"assetType\": \"EQUITY\"\n",
    "                   }\n",
    "              }\n",
    "         ]}\n",
    "resp = client.order_place(account_hash, order)\n",
    "print(f\"Response code: {resp}\") \n",
    "\n",
    "# get the order ID - if order is immediately filled then the id might not be returned\n",
    "order_id = resp.headers.get('location', '/').split('/')[-1] \n",
    "print(f\"Order id: {order_id}\")"
   ],
   "id": "12ce8ea103853c49",
   "outputs": [],
   "execution_count": null
  },
  {
   "metadata": {
    "jupyter": {
     "is_executing": true
    }
   },
   "cell_type": "code",
   "source": [
    "# cancel the order\n",
    "print(client.order_cancel(account_hash, order_id))"
   ],
   "id": "4f95a82378df8e73",
   "outputs": [],
   "execution_count": null
  },
  {
   "metadata": {},
   "cell_type": "markdown",
   "source": "# Streaming example",
   "id": "20bb6b09489bf1a9"
  },
  {
   "metadata": {},
   "cell_type": "code",
   "source": [
    "# create streamer\n",
    "streamer = client.stream"
   ],
   "id": "96d8a48e39b05465",
   "outputs": [],
   "execution_count": null
  },
  {
   "metadata": {},
   "cell_type": "code",
   "source": [
    "# create a list to store responses\n",
    "responses = []\n",
    "def add_to_list(message):\n",
    "    responses.append(message)"
   ],
   "id": "9449da0e5ab23a6b",
   "outputs": [],
   "execution_count": null
  },
  {
   "metadata": {},
   "cell_type": "code",
   "source": [
    "#start stream and send request\n",
    "streamer.start(add_to_list)\n",
    "streamer.send(streamer.level_one_equities(\"AMD\", \"0,1,2,3,4,5,6,7,8\"))"
   ],
   "id": "7cdeaaa69efb6f3f",
   "outputs": [],
   "execution_count": null
  },
  {
   "metadata": {},
   "cell_type": "code",
   "source": [
    "#check responses\n",
    "print(responses)"
   ],
   "id": "4241513b2fbf9f6e",
   "outputs": [],
   "execution_count": null
  },
  {
   "metadata": {},
   "cell_type": "code",
   "source": [
    "#stop stream\n",
    "streamer.stop()"
   ],
   "id": "cb5789c2248b6b54",
   "outputs": [],
   "execution_count": null
  }
 ],
 "metadata": {
  "kernelspec": {
   "display_name": "Python 3",
   "language": "python",
   "name": "python3"
  },
  "language_info": {
   "codemirror_mode": {
    "name": "ipython",
    "version": 2
   },
   "file_extension": ".py",
   "mimetype": "text/x-python",
   "name": "python",
   "nbconvert_exporter": "python",
   "pygments_lexer": "ipython2",
   "version": "2.7.6"
  }
 },
 "nbformat": 4,
 "nbformat_minor": 5
}
